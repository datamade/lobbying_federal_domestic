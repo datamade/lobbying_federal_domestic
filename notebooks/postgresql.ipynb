{
 "metadata": {
  "name": "",
  "signature": "sha256:9ee91c64a15bc2c5256300cca5fd0daef4067d8d2dd3ae1c03f91fbce4cfed34"
 },
 "nbformat": 3,
 "nbformat_minor": 0,
 "worksheets": [
  {
   "cells": [
    {
     "cell_type": "code",
     "collapsed": false,
     "input": [
      "import os\n",
      "import json\n",
      "from glob import glob\n",
      "import psycopg2\n",
      "from settings import TRANS_DIR\n",
      "\n",
      "conn_str = \"dbname=lobbyists user=lobbyist password=lobbyist\""
     ],
     "language": "python",
     "metadata": {},
     "outputs": [],
     "prompt_number": 24
    },
    {
     "cell_type": "code",
     "collapsed": false,
     "input": [
      "filepaths = glob(os.path.join(TRANS_DIR, 'sopr/*/*/*.json'))"
     ],
     "language": "python",
     "metadata": {},
     "outputs": [],
     "prompt_number": 27
    },
    {
     "cell_type": "code",
     "collapsed": false,
     "input": [
      "\n",
      "def upsert_client(cursor, info):\n",
      "    \"\"\"Using the client data from the json blob, upsert the client information\"\"\"\n",
      "    cursor.execute(\"\"\"SELECT id FROM clients WHERE data->>'ClientID' = %s and data->>'ClientName' = %s;\"\"\",\n",
      "        (info[u'ClientID'], info[u'ClientName'],))\n",
      "    try:\n",
      "        id = cursor.fetchone()[0]\n",
      "    except TypeError:  # <NoneType>[0] raises a TypeError\n",
      "        id = None\n",
      "    if id is None:\n",
      "        cursor.execute(\"\"\"INSERT INTO clients (\"data\") VALUES (%s) RETURNING \"id\";\"\"\",\n",
      "            (json.dumps(info),))\n",
      "        id = cursor.fetchone()[0]\n",
      "    return id\n",
      "\n",
      "\n",
      "def upsert_registrant(cursor, info):\n",
      "    \"\"\"Using the registrant data from the json blob, upsert the registrant information\"\"\"\n",
      "    cursor.execute(\"\"\"SELECT id FROM registrants WHERE data->>'RegistrantID' = %s and data->>'RegistrantName' = %s;\"\"\",\n",
      "        (info[u'RegistrantID'], info[u'RegistrantName'],))\n",
      "    try:\n",
      "        id = cursor.fetchone()[0]\n",
      "    except TypeError:  # <NoneType>[0] raises a TypeError\n",
      "        id = None\n",
      "    if id is None:\n",
      "        cursor.execute(\"\"\"INSERT INTO registrants (\"data\") VALUES (%s) RETURNING \"id\";\"\"\",\n",
      "            (json.dumps(info),))\n",
      "        id = cursor.fetchone()[0]\n",
      "    return id\n",
      "\n",
      "\n",
      "def insert_json_blobs(cursor, filepaths):\n",
      "    counter = 0\n",
      "    for filepath in filepaths:\n",
      "        counter += 1\n",
      "        with open(filepath, 'r') as fb:\n",
      "            record = json.load(fb)\n",
      "        # Insert the client\n",
      "        client_id = upsert_client(cursor, record[u'Client'])\n",
      "        # Insert the registrant\n",
      "        registrant_id = upsert_registrant(cursor, record[u'Registrant'])\n",
      "        # Insert the filing\n",
      "        amount = record.get(u'Amount', None)\n",
      "        if isinstance(amount, (str, unicode,)):\n",
      "            try:\n",
      "                amount = int(amount)\n",
      "            except ValueError:\n",
      "                amount = None\n",
      "        received = record.get(u'Received', None)\n",
      "        if not received:\n",
      "            # Catch null strings...\n",
      "            received = None\n",
      "        cursor.execute(\"\"\"\\\n",
      "INSERT INTO filings (\"id\", \"amount\", \"period\", \"received\", \"client_id\", \"registrant_id\", \"type\", \"year\")\n",
      "VALUES (%s, %s, %s, %s, %s, %s, %s, %s) RETURNING \"id\";\"\"\",\n",
      "            (record[u'ID'], amount, record.get(u'Period', u''), received, client_id, registrant_id, record[u'Type'], record[u'Year'],))\n",
      "        if counter == 10:\n",
      "            cursor.connection.commit()\n",
      "            counter = 0\n",
      "\n",
      "with psycopg2.connect(conn_str) as conn:\n",
      "    with conn.cursor() as cursor:\n",
      "        insert_json_blobs(cursor, filepaths)\n",
      "        cursor.execute(\"SELECT count(*) FROM filings\")\n",
      "        filings_count = cursor.fetchone()[0]\n",
      "\n",
      "filings_count"
     ],
     "language": "python",
     "metadata": {},
     "outputs": [
      {
       "ename": "KeyboardInterrupt",
       "evalue": "",
       "output_type": "pyerr",
       "traceback": [
        "\u001b[0;31m---------------------------------------------------------------------------\u001b[0m\n\u001b[0;31mKeyboardInterrupt\u001b[0m                         Traceback (most recent call last)",
        "\u001b[0;32m<ipython-input-35-760cb895884d>\u001b[0m in \u001b[0;36m<module>\u001b[0;34m()\u001b[0m\n\u001b[1;32m     60\u001b[0m \u001b[0;32mwith\u001b[0m \u001b[0mpsycopg2\u001b[0m\u001b[0;34m.\u001b[0m\u001b[0mconnect\u001b[0m\u001b[0;34m(\u001b[0m\u001b[0mconn_str\u001b[0m\u001b[0;34m)\u001b[0m \u001b[0;32mas\u001b[0m \u001b[0mconn\u001b[0m\u001b[0;34m:\u001b[0m\u001b[0;34m\u001b[0m\u001b[0m\n\u001b[1;32m     61\u001b[0m     \u001b[0;32mwith\u001b[0m \u001b[0mconn\u001b[0m\u001b[0;34m.\u001b[0m\u001b[0mcursor\u001b[0m\u001b[0;34m(\u001b[0m\u001b[0;34m)\u001b[0m \u001b[0;32mas\u001b[0m \u001b[0mcursor\u001b[0m\u001b[0;34m:\u001b[0m\u001b[0;34m\u001b[0m\u001b[0m\n\u001b[0;32m---> 62\u001b[0;31m         \u001b[0minsert_json_blobs\u001b[0m\u001b[0;34m(\u001b[0m\u001b[0mcursor\u001b[0m\u001b[0;34m,\u001b[0m \u001b[0mfilepaths\u001b[0m\u001b[0;34m)\u001b[0m\u001b[0;34m\u001b[0m\u001b[0m\n\u001b[0m\u001b[1;32m     63\u001b[0m         \u001b[0mcursor\u001b[0m\u001b[0;34m.\u001b[0m\u001b[0mexecute\u001b[0m\u001b[0;34m(\u001b[0m\u001b[0;34m\"SELECT count(*) FROM filings\"\u001b[0m\u001b[0;34m)\u001b[0m\u001b[0;34m\u001b[0m\u001b[0m\n\u001b[1;32m     64\u001b[0m         \u001b[0mfilings_count\u001b[0m \u001b[0;34m=\u001b[0m \u001b[0mcursor\u001b[0m\u001b[0;34m.\u001b[0m\u001b[0mfetchone\u001b[0m\u001b[0;34m(\u001b[0m\u001b[0;34m)\u001b[0m\u001b[0;34m[\u001b[0m\u001b[0;36m0\u001b[0m\u001b[0;34m]\u001b[0m\u001b[0;34m\u001b[0m\u001b[0m\n",
        "\u001b[0;32m<ipython-input-35-760cb895884d>\u001b[0m in \u001b[0;36minsert_json_blobs\u001b[0;34m(cursor, filepaths)\u001b[0m\n\u001b[1;32m     37\u001b[0m             \u001b[0mrecord\u001b[0m \u001b[0;34m=\u001b[0m \u001b[0mjson\u001b[0m\u001b[0;34m.\u001b[0m\u001b[0mload\u001b[0m\u001b[0;34m(\u001b[0m\u001b[0mfb\u001b[0m\u001b[0;34m)\u001b[0m\u001b[0;34m\u001b[0m\u001b[0m\n\u001b[1;32m     38\u001b[0m         \u001b[0;31m# Insert the client\u001b[0m\u001b[0;34m\u001b[0m\u001b[0;34m\u001b[0m\u001b[0m\n\u001b[0;32m---> 39\u001b[0;31m         \u001b[0mclient_id\u001b[0m \u001b[0;34m=\u001b[0m \u001b[0mupsert_client\u001b[0m\u001b[0;34m(\u001b[0m\u001b[0mcursor\u001b[0m\u001b[0;34m,\u001b[0m \u001b[0mrecord\u001b[0m\u001b[0;34m[\u001b[0m\u001b[0;34mu'Client'\u001b[0m\u001b[0;34m]\u001b[0m\u001b[0;34m)\u001b[0m\u001b[0;34m\u001b[0m\u001b[0m\n\u001b[0m\u001b[1;32m     40\u001b[0m         \u001b[0;31m# Insert the registrant\u001b[0m\u001b[0;34m\u001b[0m\u001b[0;34m\u001b[0m\u001b[0m\n\u001b[1;32m     41\u001b[0m         \u001b[0mregistrant_id\u001b[0m \u001b[0;34m=\u001b[0m \u001b[0mupsert_registrant\u001b[0m\u001b[0;34m(\u001b[0m\u001b[0mcursor\u001b[0m\u001b[0;34m,\u001b[0m \u001b[0mrecord\u001b[0m\u001b[0;34m[\u001b[0m\u001b[0;34mu'Registrant'\u001b[0m\u001b[0;34m]\u001b[0m\u001b[0;34m)\u001b[0m\u001b[0;34m\u001b[0m\u001b[0m\n",
        "\u001b[0;32m<ipython-input-35-760cb895884d>\u001b[0m in \u001b[0;36mupsert_client\u001b[0;34m(cursor, info)\u001b[0m\n\u001b[1;32m      3\u001b[0m     \u001b[0;34m\"\"\"Using the client data from the json blob, upsert the client information\"\"\"\u001b[0m\u001b[0;34m\u001b[0m\u001b[0m\n\u001b[1;32m      4\u001b[0m     cursor.execute(\"\"\"SELECT id FROM clients WHERE data->>'ClientID' = %s and data->>'ClientName' = %s;\"\"\",\n\u001b[0;32m----> 5\u001b[0;31m         (info[u'ClientID'], info[u'ClientName'],))\n\u001b[0m\u001b[1;32m      6\u001b[0m     \u001b[0;32mtry\u001b[0m\u001b[0;34m:\u001b[0m\u001b[0;34m\u001b[0m\u001b[0m\n\u001b[1;32m      7\u001b[0m         \u001b[0mid\u001b[0m \u001b[0;34m=\u001b[0m \u001b[0mcursor\u001b[0m\u001b[0;34m.\u001b[0m\u001b[0mfetchone\u001b[0m\u001b[0;34m(\u001b[0m\u001b[0;34m)\u001b[0m\u001b[0;34m[\u001b[0m\u001b[0;36m0\u001b[0m\u001b[0;34m]\u001b[0m\u001b[0;34m\u001b[0m\u001b[0m\n",
        "\u001b[0;32m<string>\u001b[0m in \u001b[0;36m__new__\u001b[0;34m(_cls, name, type_code, display_size, internal_size, precision, scale, null_ok)\u001b[0m\n",
        "\u001b[0;31mKeyboardInterrupt\u001b[0m: "
       ]
      }
     ],
     "prompt_number": 35
    },
    {
     "cell_type": "code",
     "collapsed": false,
     "input": [
      "with psycopg2.connect(conn_str) as conn:\n",
      "    with conn.cursor() as cursor:\n",
      "        cursor.execute(\"\"\"\n",
      "with client_contributions_by_year as (\n",
      "  select c.data->>'ClientName' as \"name\", array_agg(f.year) as years\n",
      "  from filings as f inner join clients as c on f.client_id = c.id\n",
      "  group by 1)\n",
      "select name, array(select distinct unnest(years::text[]) order by 1) from client_contributions_by_year\n",
      "\"\"\")\n",
      "        values = cursor.fetchall()\n",
      "values"
     ],
     "language": "python",
     "metadata": {},
     "outputs": [
      {
       "metadata": {},
       "output_type": "pyout",
       "prompt_number": 34,
       "text": [
        "[]"
       ]
      }
     ],
     "prompt_number": 34
    },
    {
     "cell_type": "code",
     "collapsed": false,
     "input": [
      "with psycopg2.connect(conn_str) as conn:\n",
      "    with conn.cursor() as cursor:\n",
      "        cursor.execute(\"\"\"\n",
      "select r.data->>'RegistrantName', count(f.id),\n",
      "       array(select distinct unnest(array_agg(c.data->>'ClientName')::text[]) order by 1) as clients\n",
      "from filings as f inner join registrants as r on f.registrant_id = r.id inner join clients as c on f.client_id = c.id\n",
      "group by 1\n",
      "limit 20\n",
      "\"\"\")\n",
      "        values = cursor.fetchall()\n",
      "values"
     ],
     "language": "python",
     "metadata": {},
     "outputs": [
      {
       "metadata": {},
       "output_type": "pyout",
       "prompt_number": 39,
       "text": [
        "[('1ST ROCHDALE COOPERATIVE GROUP LTD',\n",
        "  2L,\n",
        "  ['1ST ROCHDALE COOPERATIVE GROUP LTD']),\n",
        " ('3COM CORP', 2L, ['3COM CORP']),\n",
        " ('3M COMPANY', 2L, ['3M COMPANY']),\n",
        " ('60 PLUS ASSOCIATION', 1L, ['60 PLUS ASSOCIATION']),\n",
        " ('7-ELEVEN, INC', 1L, ['7-ELEVEN INC']),\n",
        " ('A-K ASSOC',\n",
        "  8L,\n",
        "  ['CITY OF SOUTH LAKE TAHOE',\n",
        "   'DELTA DENTAL FEDERAL SERVICE',\n",
        "   'GOLDEN GATE BRIDGE HIGHWAY & TRANSPORTATION DIST',\n",
        "   'RECLAMATION DIST 1000',\n",
        "   'SAN JOAQUIN REGIONAL RAIL COMMISSION']),\n",
        " ('A.L. Ross Associates', 3L, ['EXPRO TEC']),\n",
        " ('A.O. SMITH CORPORATION', 2L, ['A O SMITH CORPORATION']),\n",
        " ('AAI CORPORATION', 3L, ['AAI CORPORATION']),\n",
        " ('AARP', 2L, ['AARP']),\n",
        " ('AB MANAGEMENT ASSOCIATES',\n",
        "  5L,\n",
        "  ['AMERICAN ASSN OF AIRPORT EXECUTIVES', 'MEGAPULSE', 'PEGASUS MANAGEMENT']),\n",
        " ('ABB, Inc.', 2L, ['ABB']),\n",
        " ('ABBOTT LABORATORIES', 1L, ['ABBOTT LABORATORIES']),\n",
        " ('ABC', 1L, ['ABC']),\n",
        " ('ABITIBI CONSOLIDATED SALES CORP', 2L, ['ABITIBI CONSOLIDATED SALES CORP']),\n",
        " ('ABLONDI FOSTER SOBIN & DAVIDOW', 1L, ['STANLEY WORKS']),\n",
        " ('ABRAMS, ELLIOTT', 2L, ['IVCHER BARUCH']),\n",
        " ('ABS GROUP OF COMPANIES', 2L, ['ABS GROUP OF COMPANIES']),\n",
        " ('ACADEMY OF MANAGED CARE PHARMACY',\n",
        "  4L,\n",
        "  ['ACADEMY OF MANAGED CARE PHARMACY']),\n",
        " ('ACADEMY OF NUTRITION AND DIETETICS (FORMERLY AS AMERICAN DIETETIC ASSOCIATION)',\n",
        "  2L,\n",
        "  ['ACADEMY OF NUTRITION AND DIETETICS (FORMERLY AS AMERICAN DIETETIC ASSOCIATION)'])]"
       ]
      }
     ],
     "prompt_number": 39
    },
    {
     "cell_type": "code",
     "collapsed": false,
     "input": [],
     "language": "python",
     "metadata": {},
     "outputs": []
    }
   ],
   "metadata": {}
  }
 ]
}